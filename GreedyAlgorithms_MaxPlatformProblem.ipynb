{
 "cells": [
  {
   "cell_type": "code",
   "execution_count": 7,
   "metadata": {},
   "outputs": [
    {
     "name": "stdout",
     "output_type": "stream",
     "text": [
      "Minimum Number of Platforms Required= 3\n"
     ]
    }
   ],
   "source": [
    "class platform:\n",
    "    def max_plat(arr,dep,n):\n",
    "        # sorted the values using merge sort(in-built functions)\n",
    "        arr.sort()\n",
    "        dep.sort()\n",
    "        #----------------Time complexity until now is 0(log n) for using merge sort---------------------------------------\n",
    "        \n",
    "        i=1 #used Two pointers(i and j) to initialise the values for iterating over Arrival and departure   \n",
    "        j=0\n",
    "        max_platform=1 # setting maximum needed platform as 1(atleast one platform is needed for a train while arriving in a station)\n",
    "        needed_platform=1 #Answer\n",
    "        \n",
    "        for i in range(n):#-----------------Time complexity for using for loop to iterate over each element is n------.so overall Time complexity is o(n log n)\n",
    "            if arr[i] >= dep[j]:\n",
    "                j+=1               #J(increase Depature count-->for selecting next element)\n",
    "                max_platform-=1    #Train left(Decrease platform count)\n",
    "            elif arr[i] < dep[j]:\n",
    "                i+=1               #i(increase Arrival count-->for selecting next element)\n",
    "                max_platform+=1  #Train stays(Increase platform count)\n",
    "            if max_platform > needed_platform :\n",
    "                needed_platform=max_platform\n",
    "        return needed_platform\n",
    "arr = [900, 940, 950, 1100, 1500, 1800]\n",
    "dep = [910, 1200, 1120, 1130, 1900, 2000]\n",
    "n = len(arr)\n",
    "platform()\n",
    "print(\"Minimum Number of Platforms Required=\",platform.max_plat(arr,dep,n))\n",
    "#Space Complexity: O(1).As no extra space is required"
   ]
  },
  {
   "cell_type": "code",
   "execution_count": null,
   "metadata": {},
   "outputs": [],
   "source": []
  },
  {
   "cell_type": "code",
   "execution_count": null,
   "metadata": {},
   "outputs": [],
   "source": []
  },
  {
   "cell_type": "code",
   "execution_count": null,
   "metadata": {},
   "outputs": [],
   "source": []
  },
  {
   "cell_type": "code",
   "execution_count": null,
   "metadata": {},
   "outputs": [],
   "source": []
  },
  {
   "cell_type": "code",
   "execution_count": null,
   "metadata": {},
   "outputs": [],
   "source": []
  },
  {
   "cell_type": "code",
   "execution_count": null,
   "metadata": {},
   "outputs": [],
   "source": []
  },
  {
   "cell_type": "code",
   "execution_count": null,
   "metadata": {},
   "outputs": [],
   "source": []
  }
 ],
 "metadata": {
  "kernelspec": {
   "display_name": "Python 3",
   "language": "python",
   "name": "python3"
  },
  "language_info": {
   "codemirror_mode": {
    "name": "ipython",
    "version": 3
   },
   "file_extension": ".py",
   "mimetype": "text/x-python",
   "name": "python",
   "nbconvert_exporter": "python",
   "pygments_lexer": "ipython3",
   "version": "3.7.6"
  }
 },
 "nbformat": 4,
 "nbformat_minor": 4
}
